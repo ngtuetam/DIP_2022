{
 "cells": [
  {
   "cell_type": "code",
   "execution_count": 20,
   "id": "23dfcd28",
   "metadata": {},
   "outputs": [],
   "source": [
    "import numpy as np\n",
    "\n",
    "A = [1.1, 1.2]\n",
    "B = [2.0, 3.0]\n",
    "C = [6.3, 1.5]\n",
    "ctr_1 = [1,5]\n",
    "ctr_2 = [4,1]"
   ]
  },
  {
   "cell_type": "code",
   "execution_count": 25,
   "id": "2770415f",
   "metadata": {},
   "outputs": [],
   "source": [
    "def predict(point):\n",
    "    dist_1 = ((point[0] - ctr_1[0])**2 + (point[1] - ctr_1[1])**2)**0.5\n",
    "    dist_2 = ((point[0] - ctr_2[0])**2 + (point[1] - ctr_2[1])**2)**0.5\n",
    "    if dist_1 > dist_2:\n",
    "        print(\"{} belongs to ctr_2\".format(point))\n",
    "    else:\n",
    "        print(\"{} belongs to ctr_1\".format(point))"
   ]
  },
  {
   "cell_type": "code",
   "execution_count": 26,
   "id": "40823fc4",
   "metadata": {},
   "outputs": [
    {
     "name": "stdout",
     "output_type": "stream",
     "text": [
      "[1.1, 1.2] belongs to ctr_2\n",
      "[2.0, 3.0] belongs to ctr_1\n",
      "[6.3, 1.5] belongs to ctr_2\n"
     ]
    }
   ],
   "source": [
    "predict(A)\n",
    "predict(B)\n",
    "predict(C)"
   ]
  },
  {
   "cell_type": "code",
   "execution_count": null,
   "id": "7e3ac8ca",
   "metadata": {},
   "outputs": [],
   "source": []
  }
 ],
 "metadata": {
  "kernelspec": {
   "display_name": "Python 3 (ipykernel)",
   "language": "python",
   "name": "python3"
  },
  "language_info": {
   "codemirror_mode": {
    "name": "ipython",
    "version": 3
   },
   "file_extension": ".py",
   "mimetype": "text/x-python",
   "name": "python",
   "nbconvert_exporter": "python",
   "pygments_lexer": "ipython3",
   "version": "3.9.12"
  }
 },
 "nbformat": 4,
 "nbformat_minor": 5
}
