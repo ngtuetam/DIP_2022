{
 "cells": [
  {
   "cell_type": "markdown",
   "id": "cdb7beac",
   "metadata": {},
   "source": [
    "### 3. Histogram and cumulative distribution function of histogram.\n",
    "For this problem, use the Lenna image `2_2.bmp`. Keep the range of the pixel values in\n",
    "$[0,255]$. The histogram of a digital image with gray levels in the range $[0,L-1]$ is a\n",
    "discrete function $h(k)=N_k$ , where $N$ k is the number of pixels in the image having gray\n",
    "level $k$. Write your own program to plot the histogram and the cumulative distribution\n",
    "function (cdf) of the histogram of the Lenna image.\n",
    "Normalize the histogram and make sure it sums to one.\n",
    "**HINT**: After loading the image, use one of the bands to plot the histogram. **DO NOT**\n",
    "use `imhist` or `hist`. You need to write your own code to plot the histogram. You may use\n",
    "`cdfplot` to plot the cumulative distribution function"
   ]
  },
  {
   "cell_type": "code",
   "execution_count": 39,
   "id": "b9c86ac4",
   "metadata": {},
   "outputs": [],
   "source": [
    "import numpy as np\n",
    "import matplotlib.pyplot as plt"
   ]
  },
  {
   "cell_type": "code",
   "execution_count": 40,
   "id": "00c233d2",
   "metadata": {},
   "outputs": [],
   "source": [
    "img_path = '/home/ngtuetam/workspace/DIP_2022/assignment_2/images/2_2.bmp'"
   ]
  },
  {
   "cell_type": "code",
   "execution_count": 41,
   "id": "5c83d04b",
   "metadata": {},
   "outputs": [],
   "source": [
    "img = plt.imread(img_path)\n",
    "h = np.zeros((256))"
   ]
  },
  {
   "cell_type": "code",
   "execution_count": 42,
   "id": "cb8cc002",
   "metadata": {},
   "outputs": [],
   "source": [
    "rows,cols,d = img.shape"
   ]
  },
  {
   "cell_type": "code",
   "execution_count": 43,
   "id": "8df6b211",
   "metadata": {},
   "outputs": [],
   "source": [
    "for i in range(rows):\n",
    "    for j in range(cols):\n",
    "        h[img[i,j]] = h[img[i,j]] +1"
   ]
  },
  {
   "cell_type": "code",
   "execution_count": 46,
   "id": "813460d9",
   "metadata": {},
   "outputs": [],
   "source": [
    "Intensity = np.arange(0,256)"
   ]
  },
  {
   "cell_type": "code",
   "execution_count": 54,
   "id": "c89a09ab",
   "metadata": {},
   "outputs": [
    {
     "data": {
      "text/plain": [
       "Text(0.5, 1.0, 'Histogram')"
      ]
     },
     "execution_count": 54,
     "metadata": {},
     "output_type": "execute_result"
    },
    {
     "data": {
      "image/png": "[encoded data removed]",
      "text/plain": [
       "<Figure size 640x480 with 1 Axes>"
      ]
     },
     "metadata": {},
     "output_type": "display_data"
    }
   ],
   "source": [
    "plt.bar(Intensity,h)\n",
    "plt.xlabel('Pixel Value')\n",
    "plt.ylabel('Number of pixel')\n",
    "plt.title('Histogram')"
   ]
  },
  {
   "cell_type": "code",
   "execution_count": 58,
   "id": "d722033d",
   "metadata": {},
   "outputs": [
    {
     "data": {
      "text/plain": [
       "2345.0"
      ]
     },
     "execution_count": 58,
     "metadata": {},
     "output_type": "execute_result"
    }
   ],
   "source": [
    "max(h)"
   ]
  },
  {
   "cell_type": "code",
   "execution_count": null,
   "id": "1653a53e",
   "metadata": {},
   "outputs": [],
   "source": []
  }
 ],
 "metadata": {
  "kernelspec": {
   "display_name": "Python 3 (ipykernel)",
   "language": "python",
   "name": "python3"
  },
  "language_info": {
   "codemirror_mode": {
    "name": "ipython",
    "version": 3
   },
   "file_extension": ".py",
   "mimetype": "text/x-python",
   "name": "python",
   "nbconvert_exporter": "python",
   "pygments_lexer": "ipython3",
   "version": "3.8.10"
  }
 },
 "nbformat": 4,
 "nbformat_minor": 5
}
