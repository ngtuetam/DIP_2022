{
 "cells": [
  {
   "cell_type": "markdown",
   "id": "cdb7beac",
   "metadata": {},
   "source": [
    "### 3. Histogram and cumulative distribution function of histogram.\n",
    "For this problem, use the Lenna image `2_2.bmp`. Keep the range of the pixel values in\n",
    "$[0,255]$. The histogram of a digital image with gray levels in the range $[0,L-1]$ is a\n",
    "discrete function $h(k)=N_k$ , where $N$ k is the number of pixels in the image having gray\n",
    "level $k$. Write your own program to plot the histogram and the cumulative distribution\n",
    "function (cdf) of the histogram of the Lenna image.\n",
    "Normalize the histogram and make sure it sums to one.\n",
    "**HINT**: After loading the image, use one of the bands to plot the histogram. **DO NOT**\n",
    "use `imhist` or `hist`. You need to write your own code to plot the histogram. You may use\n",
    "`cdfplot` to plot the cumulative distribution function"
   ]
  },
  {
   "cell_type": "code",
   "execution_count": 1,
   "id": "b9c86ac4",
   "metadata": {},
   "outputs": [],
   "source": [
    "import numpy as np\n",
    "import matplotlib.pyplot as plt"
   ]
  },
  {
   "cell_type": "code",
   "execution_count": null,
   "id": "00c233d2",
   "metadata": {},
   "outputs": [],
   "source": []
  }
 ],
 "metadata": {
  "kernelspec": {
   "display_name": "Python 3 (ipykernel)",
   "language": "python",
   "name": "python3"
  },
  "language_info": {
   "codemirror_mode": {
    "name": "ipython",
    "version": 3
   },
   "file_extension": ".py",
   "mimetype": "text/x-python",
   "name": "python",
   "nbconvert_exporter": "python",
   "pygments_lexer": "ipython3",
   "version": "3.9.12"
  }
 },
 "nbformat": 4,
 "nbformat_minor": 5
}
